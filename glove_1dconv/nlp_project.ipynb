{
  "nbformat": 4,
  "nbformat_minor": 0,
  "metadata": {
    "colab": {
      "provenance": [],
      "toc_visible": true
    },
    "kernelspec": {
      "name": "python3",
      "display_name": "Python 3"
    },
    "language_info": {
      "name": "python"
    },
    "accelerator": "GPU",
    "gpuClass": "standard"
  },
  "cells": [
    {
      "cell_type": "code",
      "execution_count": null,
      "metadata": {
        "id": "GQu2P7qiM3pQ"
      },
      "outputs": [],
      "source": [
        "import pandas as pd\n",
        "import json\n",
        "from tqdm import tqdm\n",
        "import tensorflow as tf\n",
        "import numpy as np\n",
        "\n",
        "prefix = \"/content/drive/MyDrive/nlp_project/\"\n"
      ]
    },
    {
      "cell_type": "code",
      "source": [
        "# from google.colab import drive\n",
        "# drive.mount('/content/drive')\n",
        "# %cd '/content/drive/My Drive/path/to/my/project/folder'\n",
        "\n",
        "# !pip install cache-magic\n",
        "# import cache_magic\n",
        "\n",
        "# !mkdir .cache\n",
        "# !ln -s '/content/drive/My Drive/path/to/my/project/folder/.cache' /content/.cache"
      ],
      "metadata": {
        "id": "csKAsteCE61E"
      },
      "execution_count": null,
      "outputs": []
    },
    {
      "cell_type": "code",
      "source": [
        "from google.colab import drive\n",
        "drive.mount('/content/drive')"
      ],
      "metadata": {
        "colab": {
          "base_uri": "https://localhost:8080/"
        },
        "id": "1_8I5TMWM3CJ",
        "outputId": "4ef58a79-46a1-49f4-a715-6d86dbb71270"
      },
      "execution_count": null,
      "outputs": [
        {
          "output_type": "stream",
          "name": "stdout",
          "text": [
            "Mounted at /content/drive\n"
          ]
        }
      ]
    },
    {
      "cell_type": "code",
      "source": [
        "train_path = prefix + \"train.json\"\n",
        "# test_path = prefix + \"dev.json\""
      ],
      "metadata": {
        "id": "IC75FdlrQP_k"
      },
      "execution_count": null,
      "outputs": []
    },
    {
      "cell_type": "code",
      "source": [
        "# train = pd.read_json(train_path)\n",
        "# test = pd.read_json(test_path)"
      ],
      "metadata": {
        "id": "Lsgu9u5sNcmG"
      },
      "execution_count": null,
      "outputs": []
    },
    {
      "cell_type": "code",
      "source": [
        "# train.head()"
      ],
      "metadata": {
        "id": "sMaybozQNfl8"
      },
      "execution_count": null,
      "outputs": []
    },
    {
      "cell_type": "code",
      "source": [
        "with open(train_path) as data_file:    \n",
        "    data = json.load(data_file)  \n",
        "\n",
        "df = pd.json_normalize(data, record_path=[[\"annotations\"]])\n",
        "print (df.head())"
      ],
      "metadata": {
        "colab": {
          "base_uri": "https://localhost:8080/"
        },
        "id": "ZUBovzJVNpcH",
        "outputId": "46a6cdd8-cb13-4187-cc03-e42e27333ff8"
      },
      "execution_count": null,
      "outputs": [
        {
          "output_type": "stream",
          "name": "stdout",
          "text": [
            "                                              result\n",
            "0  [{'id': 'd7a902fe9c23417499a7ef782f9fbdeb', 't...\n",
            "1  [{'id': 'ac4523a0252e4007986cefbd6d5f571a', 'v...\n",
            "2  [{'id': '43499bd62ea94624b2f38f4cbc677913', 'v...\n",
            "3  [{'id': 'ec5e65782b1949e4a5445a2115ab5382', 'v...\n",
            "4  [{'id': '7323f9247fbc4618bf006ef103d7cb3a', 't...\n"
          ]
        }
      ]
    },
    {
      "cell_type": "code",
      "source": [
        "for i, row in df.iterrows():\n",
        "  print(row, row.dtype)\n",
        "  break"
      ],
      "metadata": {
        "colab": {
          "base_uri": "https://localhost:8080/"
        },
        "id": "s3qum-kKRWOS",
        "outputId": "8a62d4c0-cfee-4995-8814-b6d2292a6f9e"
      },
      "execution_count": null,
      "outputs": [
        {
          "output_type": "stream",
          "name": "stdout",
          "text": [
            "result    [{'id': 'd7a902fe9c23417499a7ef782f9fbdeb', 't...\n",
            "Name: 0, dtype: object object\n"
          ]
        }
      ]
    },
    {
      "cell_type": "code",
      "source": [
        "print(data[0][\"annotations\"][0][\"result\"][0][\"value\"][\"text\"])\n",
        "print(data[0][\"annotations\"][0][\"result\"][0][\"value\"][\"labels\"][0])"
      ],
      "metadata": {
        "colab": {
          "base_uri": "https://localhost:8080/"
        },
        "id": "IdBVkJWGSiGy",
        "outputId": "45911059-603c-482b-9ac7-9e5c7a73061c"
      },
      "execution_count": null,
      "outputs": [
        {
          "output_type": "stream",
          "name": "stdout",
          "text": [
            "      IN THE HIGH COURT OF KARNATAKA,\n",
            "          CIRCUIT BENCH AT GULBARGA\n",
            "\n",
            "DATED THIS THE 22ND DAY OF FEBRUARY, 2013\n",
            "PREAMBLE\n"
          ]
        }
      ]
    },
    {
      "cell_type": "code",
      "source": [
        "x = pd.DataFrame(columns = [\"text\", \"output\"])"
      ],
      "metadata": {
        "id": "3UP8YhF0USmU"
      },
      "execution_count": null,
      "outputs": []
    },
    {
      "cell_type": "code",
      "source": [],
      "metadata": {
        "id": "HFDKUjOaVM8P"
      },
      "execution_count": null,
      "outputs": []
    },
    {
      "cell_type": "code",
      "source": [
        "# p = 0\n",
        "# for i in tqdm(range(len(data))):\n",
        "#   for j in range(len(data[i][\"annotations\"])):\n",
        "#     for k in range(len(data[i][\"annotations\"][j][\"result\"])):\n",
        "#       text = data[i][\"annotations\"][j][\"result\"][k][\"value\"][\"text\"]\n",
        "#       output = data[i][\"annotations\"][j][\"result\"][k][\"value\"][\"labels\"][0]\n",
        "#       x.loc[p] = [text, output]\n",
        "#       p+=1\n",
        "\n",
        "import pickle\n",
        "\n",
        "# obj0, obj1, obj2 are created here...\n",
        "\n",
        "# Saving the objects:\n",
        "# with open(prefix + 'train_data.pkl', 'wb') as f:  # Python 3: open(..., 'wb')\n",
        "#     pickle.dump(x, f)\n",
        "\n",
        "# Getting back the objects:\n",
        "with open(prefix + 'train_data.pkl', 'rb') as f:  # Python 3: open(..., 'rb')\n",
        "    x = pickle.load(f)\n",
        "\n"
      ],
      "metadata": {
        "id": "RM1EPVxWTuiS"
      },
      "execution_count": null,
      "outputs": []
    },
    {
      "cell_type": "code",
      "source": [
        "x.head()"
      ],
      "metadata": {
        "colab": {
          "base_uri": "https://localhost:8080/",
          "height": 206
        },
        "id": "lgX9FjsnUODV",
        "outputId": "ce302d81-e25e-44c8-c91e-911a89a87d7a"
      },
      "execution_count": null,
      "outputs": [
        {
          "output_type": "execute_result",
          "data": {
            "text/plain": [
              "                                                text    output  label\n",
              "0        IN THE HIGH COURT OF KARNATAKA,\\n       ...  PREAMBLE      1\n",
              "1  \\n\\n      BEFORE\\n\\nTHE HON'BLE MR.JUSTICE ANA...  PREAMBLE      1\n",
              "2  This Criminal Appeal is filed under Section 37...  PREAMBLE      1\n",
              "3  \\n\\n       This appeal coming on for hearing t...  PREAMBLE      1\n",
              "4  \\n       Heard the learned Counsel for the app...      NONE     11"
            ],
            "text/html": [
              "\n",
              "  <div id=\"df-b04916fe-2413-4b66-b75d-08df82c88942\">\n",
              "    <div class=\"colab-df-container\">\n",
              "      <div>\n",
              "<style scoped>\n",
              "    .dataframe tbody tr th:only-of-type {\n",
              "        vertical-align: middle;\n",
              "    }\n",
              "\n",
              "    .dataframe tbody tr th {\n",
              "        vertical-align: top;\n",
              "    }\n",
              "\n",
              "    .dataframe thead th {\n",
              "        text-align: right;\n",
              "    }\n",
              "</style>\n",
              "<table border=\"1\" class=\"dataframe\">\n",
              "  <thead>\n",
              "    <tr style=\"text-align: right;\">\n",
              "      <th></th>\n",
              "      <th>text</th>\n",
              "      <th>output</th>\n",
              "      <th>label</th>\n",
              "    </tr>\n",
              "  </thead>\n",
              "  <tbody>\n",
              "    <tr>\n",
              "      <th>0</th>\n",
              "      <td>IN THE HIGH COURT OF KARNATAKA,\\n       ...</td>\n",
              "      <td>PREAMBLE</td>\n",
              "      <td>1</td>\n",
              "    </tr>\n",
              "    <tr>\n",
              "      <th>1</th>\n",
              "      <td>\\n\\n      BEFORE\\n\\nTHE HON'BLE MR.JUSTICE ANA...</td>\n",
              "      <td>PREAMBLE</td>\n",
              "      <td>1</td>\n",
              "    </tr>\n",
              "    <tr>\n",
              "      <th>2</th>\n",
              "      <td>This Criminal Appeal is filed under Section 37...</td>\n",
              "      <td>PREAMBLE</td>\n",
              "      <td>1</td>\n",
              "    </tr>\n",
              "    <tr>\n",
              "      <th>3</th>\n",
              "      <td>\\n\\n       This appeal coming on for hearing t...</td>\n",
              "      <td>PREAMBLE</td>\n",
              "      <td>1</td>\n",
              "    </tr>\n",
              "    <tr>\n",
              "      <th>4</th>\n",
              "      <td>\\n       Heard the learned Counsel for the app...</td>\n",
              "      <td>NONE</td>\n",
              "      <td>11</td>\n",
              "    </tr>\n",
              "  </tbody>\n",
              "</table>\n",
              "</div>\n",
              "      <button class=\"colab-df-convert\" onclick=\"convertToInteractive('df-b04916fe-2413-4b66-b75d-08df82c88942')\"\n",
              "              title=\"Convert this dataframe to an interactive table.\"\n",
              "              style=\"display:none;\">\n",
              "        \n",
              "  <svg xmlns=\"http://www.w3.org/2000/svg\" height=\"24px\"viewBox=\"0 0 24 24\"\n",
              "       width=\"24px\">\n",
              "    <path d=\"M0 0h24v24H0V0z\" fill=\"none\"/>\n",
              "    <path d=\"M18.56 5.44l.94 2.06.94-2.06 2.06-.94-2.06-.94-.94-2.06-.94 2.06-2.06.94zm-11 1L8.5 8.5l.94-2.06 2.06-.94-2.06-.94L8.5 2.5l-.94 2.06-2.06.94zm10 10l.94 2.06.94-2.06 2.06-.94-2.06-.94-.94-2.06-.94 2.06-2.06.94z\"/><path d=\"M17.41 7.96l-1.37-1.37c-.4-.4-.92-.59-1.43-.59-.52 0-1.04.2-1.43.59L10.3 9.45l-7.72 7.72c-.78.78-.78 2.05 0 2.83L4 21.41c.39.39.9.59 1.41.59.51 0 1.02-.2 1.41-.59l7.78-7.78 2.81-2.81c.8-.78.8-2.07 0-2.86zM5.41 20L4 18.59l7.72-7.72 1.47 1.35L5.41 20z\"/>\n",
              "  </svg>\n",
              "      </button>\n",
              "      \n",
              "  <style>\n",
              "    .colab-df-container {\n",
              "      display:flex;\n",
              "      flex-wrap:wrap;\n",
              "      gap: 12px;\n",
              "    }\n",
              "\n",
              "    .colab-df-convert {\n",
              "      background-color: #E8F0FE;\n",
              "      border: none;\n",
              "      border-radius: 50%;\n",
              "      cursor: pointer;\n",
              "      display: none;\n",
              "      fill: #1967D2;\n",
              "      height: 32px;\n",
              "      padding: 0 0 0 0;\n",
              "      width: 32px;\n",
              "    }\n",
              "\n",
              "    .colab-df-convert:hover {\n",
              "      background-color: #E2EBFA;\n",
              "      box-shadow: 0px 1px 2px rgba(60, 64, 67, 0.3), 0px 1px 3px 1px rgba(60, 64, 67, 0.15);\n",
              "      fill: #174EA6;\n",
              "    }\n",
              "\n",
              "    [theme=dark] .colab-df-convert {\n",
              "      background-color: #3B4455;\n",
              "      fill: #D2E3FC;\n",
              "    }\n",
              "\n",
              "    [theme=dark] .colab-df-convert:hover {\n",
              "      background-color: #434B5C;\n",
              "      box-shadow: 0px 1px 3px 1px rgba(0, 0, 0, 0.15);\n",
              "      filter: drop-shadow(0px 1px 2px rgba(0, 0, 0, 0.3));\n",
              "      fill: #FFFFFF;\n",
              "    }\n",
              "  </style>\n",
              "\n",
              "      <script>\n",
              "        const buttonEl =\n",
              "          document.querySelector('#df-b04916fe-2413-4b66-b75d-08df82c88942 button.colab-df-convert');\n",
              "        buttonEl.style.display =\n",
              "          google.colab.kernel.accessAllowed ? 'block' : 'none';\n",
              "\n",
              "        async function convertToInteractive(key) {\n",
              "          const element = document.querySelector('#df-b04916fe-2413-4b66-b75d-08df82c88942');\n",
              "          const dataTable =\n",
              "            await google.colab.kernel.invokeFunction('convertToInteractive',\n",
              "                                                     [key], {});\n",
              "          if (!dataTable) return;\n",
              "\n",
              "          const docLinkHtml = 'Like what you see? Visit the ' +\n",
              "            '<a target=\"_blank\" href=https://colab.research.google.com/notebooks/data_table.ipynb>data table notebook</a>'\n",
              "            + ' to learn more about interactive tables.';\n",
              "          element.innerHTML = '';\n",
              "          dataTable['output_type'] = 'display_data';\n",
              "          await google.colab.output.renderOutput(dataTable, element);\n",
              "          const docLink = document.createElement('div');\n",
              "          docLink.innerHTML = docLinkHtml;\n",
              "          element.appendChild(docLink);\n",
              "        }\n",
              "      </script>\n",
              "    </div>\n",
              "  </div>\n",
              "  "
            ]
          },
          "metadata": {},
          "execution_count": 11
        }
      ]
    },
    {
      "cell_type": "code",
      "source": [],
      "metadata": {
        "id": "fb4_XKDLVFRL"
      },
      "execution_count": null,
      "outputs": []
    },
    {
      "cell_type": "code",
      "source": [
        "t = tf.keras.preprocessing.text.Tokenizer()\n",
        "t.fit_on_texts(x[\"text\"].tolist())\n",
        "vocab_size = len(t.word_index) + 1\n",
        "# integer encode the documents\n",
        "encoded_docs = t.texts_to_sequences(x[\"text\"].tolist())\n",
        "# print(encoded_docs)"
      ],
      "metadata": {
        "id": "O9Paq_J8VzFk"
      },
      "execution_count": null,
      "outputs": []
    },
    {
      "cell_type": "code",
      "source": [
        "max_len = 0\n",
        "for i in encoded_docs:\n",
        "  max_len = max(max_len, len(i))\n",
        "  # max_len = 380"
      ],
      "metadata": {
        "id": "cJ1WW1WJYw5c"
      },
      "execution_count": null,
      "outputs": []
    },
    {
      "cell_type": "code",
      "source": [
        "max_len = 380"
      ],
      "metadata": {
        "id": "suCovfpuZKPU"
      },
      "execution_count": null,
      "outputs": []
    },
    {
      "cell_type": "code",
      "source": [
        "padded_docs = tf.keras.utils.pad_sequences(encoded_docs, maxlen=max_len, padding='post')"
      ],
      "metadata": {
        "id": "C0PRys6vZyFN"
      },
      "execution_count": null,
      "outputs": []
    },
    {
      "cell_type": "code",
      "source": [
        "label = list(set(x[\"output\"].tolist()))"
      ],
      "metadata": {
        "id": "ji6-o_bzaCvZ"
      },
      "execution_count": null,
      "outputs": []
    },
    {
      "cell_type": "code",
      "source": [
        "d = {}\n",
        "for i in range(len(label)):\n",
        "  d[label[i]] = i"
      ],
      "metadata": {
        "id": "MF9WjuA4bPgn"
      },
      "execution_count": null,
      "outputs": []
    },
    {
      "cell_type": "code",
      "source": [],
      "metadata": {
        "id": "F_BkiQgZbQeG"
      },
      "execution_count": null,
      "outputs": []
    },
    {
      "cell_type": "code",
      "source": [
        "x[\"label\"] = x[\"output\"].map(d)"
      ],
      "metadata": {
        "id": "25IuakDsbiGI"
      },
      "execution_count": null,
      "outputs": []
    },
    {
      "cell_type": "code",
      "source": [
        "# train_save_path = \"/content/drive/MyDrive/nlp_project/train.csv\"\n",
        "# x.to_csv(train_save_path, index=False)"
      ],
      "metadata": {
        "id": "lSCn_2tfBY42"
      },
      "execution_count": null,
      "outputs": []
    },
    {
      "cell_type": "code",
      "source": [
        "final_label = x[\"label\"].tolist()"
      ],
      "metadata": {
        "id": "51EQcZRHb7ok"
      },
      "execution_count": null,
      "outputs": []
    },
    {
      "cell_type": "code",
      "source": [
        "# final_label"
      ],
      "metadata": {
        "id": "THA13V5dcBHs"
      },
      "execution_count": null,
      "outputs": []
    },
    {
      "cell_type": "code",
      "source": [
        "# we have (padded_docs, final_label)"
      ],
      "metadata": {
        "id": "B-MDg0nNcM4w"
      },
      "execution_count": null,
      "outputs": []
    },
    {
      "cell_type": "code",
      "source": [
        "# !wget http://nlp.stanford.edu/data/glove.6B.zip\n",
        "# !unzip -q glove.6B.zip"
      ],
      "metadata": {
        "id": "f3KR2FfMcVMe"
      },
      "execution_count": null,
      "outputs": []
    },
    {
      "cell_type": "code",
      "source": [
        "# train_save_path = \"/content/drive/MyDrive/nlp_project/train.csv\"\n",
        "# train_data = pd.read_csv(train_save_path)"
      ],
      "metadata": {
        "id": "7hn_5uZ3BNyu"
      },
      "execution_count": null,
      "outputs": []
    },
    {
      "cell_type": "code",
      "source": [
        "# train_data.head()\n",
        "# final_labels = train_data[\"label\"].tolist()"
      ],
      "metadata": {
        "id": "WWiEwkarCwyc"
      },
      "execution_count": null,
      "outputs": []
    },
    {
      "cell_type": "code",
      "source": [
        "glove_embedding_path = \"/content/drive/MyDrive/nlp_project/glove.6B.100d.txt\""
      ],
      "metadata": {
        "id": "ApcHg8mpCyYb"
      },
      "execution_count": null,
      "outputs": []
    },
    {
      "cell_type": "code",
      "source": [
        "embeddings_index = dict()\n",
        "f = open(glove_embedding_path)\n",
        "for line in f:\n",
        "\tvalues = line.split()\n",
        "\tword = values[0]\n",
        "\tcoefs = np.asarray(values[1:], dtype='float32')\n",
        "\tembeddings_index[word] = coefs\n",
        "f.close()"
      ],
      "metadata": {
        "id": "qcRYDzdeDHKR"
      },
      "execution_count": null,
      "outputs": []
    },
    {
      "cell_type": "code",
      "source": [
        "embedding_matrix = np.zeros((vocab_size, 100))\n",
        "for word, i in t.word_index.items():\n",
        "\tembedding_vector = embeddings_index.get(word)\n",
        "\tif embedding_vector is not None:\n",
        "\t\tembedding_matrix[i] = embedding_vector"
      ],
      "metadata": {
        "id": "MHXAEU_kDKyE"
      },
      "execution_count": null,
      "outputs": []
    },
    {
      "cell_type": "code",
      "source": [
        "final_labels = np.array(final_label)"
      ],
      "metadata": {
        "id": "bJUTNMqYKGPd"
      },
      "execution_count": null,
      "outputs": []
    },
    {
      "cell_type": "code",
      "source": [
        "num_classes = len(d)"
      ],
      "metadata": {
        "id": "go-PoW3FKPrw"
      },
      "execution_count": null,
      "outputs": []
    },
    {
      "cell_type": "code",
      "source": [
        "final_labels = tf.keras.utils.to_categorical(final_labels, num_classes=num_classes)\n",
        "\n",
        "x_test, x_train = padded_docs[:3000], padded_docs[3000:]\n",
        "y_test, y_train = final_labels[:3000], final_labels[3000:]"
      ],
      "metadata": {
        "id": "eQw_FPV6KKLX"
      },
      "execution_count": null,
      "outputs": []
    },
    {
      "cell_type": "code",
      "source": [
        "model = tf.keras.Sequential()\n",
        "e = tf.keras.layers.Embedding(vocab_size, 100, weights=[embedding_matrix], input_length=max_len, trainable=False)\n",
        "model.add(e)\n",
        "model.add(tf.keras.layers.Flatten())\n",
        "model.add(tf.keras.layers.Dense(num_classes, activation='softmax'))\n",
        "\n",
        "# compile the model\n",
        "model.compile(optimizer='adam', loss='categorical_crossentropy', metrics=['accuracy'])\n",
        "# summarize the model\n",
        "print(model.summary())"
      ],
      "metadata": {
        "colab": {
          "base_uri": "https://localhost:8080/"
        },
        "id": "G4ovghEzDWSN",
        "outputId": "c4e74628-3d0a-4300-a205-94d535844a55"
      },
      "execution_count": null,
      "outputs": [
        {
          "output_type": "stream",
          "name": "stdout",
          "text": [
            "Model: \"sequential_4\"\n",
            "_________________________________________________________________\n",
            " Layer (type)                Output Shape              Param #   \n",
            "=================================================================\n",
            " embedding_4 (Embedding)     (None, 380, 100)          2192000   \n",
            "                                                                 \n",
            " flatten_4 (Flatten)         (None, 38000)             0         \n",
            "                                                                 \n",
            " dense_4 (Dense)             (None, 13)                494013    \n",
            "                                                                 \n",
            "=================================================================\n",
            "Total params: 2,686,013\n",
            "Trainable params: 494,013\n",
            "Non-trainable params: 2,192,000\n",
            "_________________________________________________________________\n",
            "None\n"
          ]
        }
      ]
    },
    {
      "cell_type": "code",
      "source": [],
      "metadata": {
        "id": "H5spO2cMI855"
      },
      "execution_count": null,
      "outputs": []
    },
    {
      "cell_type": "code",
      "source": [
        "model.fit(x_train, y_train, epochs=10, verbose=2)\n",
        "# evaluate the model"
      ],
      "metadata": {
        "colab": {
          "base_uri": "https://localhost:8080/"
        },
        "id": "lBJCwn4KDZh1",
        "outputId": "2e075760-5ba5-4e00-be46-537243ce5b5e"
      },
      "execution_count": null,
      "outputs": [
        {
          "output_type": "stream",
          "name": "stdout",
          "text": [
            "Epoch 1/10\n",
            "813/813 - 7s - loss: 1.7072 - accuracy: 0.4881 - 7s/epoch - 9ms/step\n",
            "Epoch 2/10\n",
            "813/813 - 7s - loss: 1.2528 - accuracy: 0.5955 - 7s/epoch - 8ms/step\n",
            "Epoch 3/10\n",
            "813/813 - 14s - loss: 1.1062 - accuracy: 0.6330 - 14s/epoch - 17ms/step\n",
            "Epoch 4/10\n",
            "813/813 - 7s - loss: 1.0053 - accuracy: 0.6654 - 7s/epoch - 8ms/step\n",
            "Epoch 5/10\n",
            "813/813 - 6s - loss: 0.9408 - accuracy: 0.6842 - 6s/epoch - 8ms/step\n",
            "Epoch 6/10\n",
            "813/813 - 7s - loss: 0.8897 - accuracy: 0.6968 - 7s/epoch - 8ms/step\n",
            "Epoch 7/10\n",
            "813/813 - 7s - loss: 0.8466 - accuracy: 0.7173 - 7s/epoch - 8ms/step\n",
            "Epoch 8/10\n",
            "813/813 - 7s - loss: 0.8104 - accuracy: 0.7246 - 7s/epoch - 8ms/step\n",
            "Epoch 9/10\n",
            "813/813 - 7s - loss: 0.7847 - accuracy: 0.7329 - 7s/epoch - 8ms/step\n",
            "Epoch 10/10\n",
            "813/813 - 7s - loss: 0.7572 - accuracy: 0.7423 - 7s/epoch - 8ms/step\n"
          ]
        },
        {
          "output_type": "execute_result",
          "data": {
            "text/plain": [
              "<keras.callbacks.History at 0x7ff8e2059c50>"
            ]
          },
          "metadata": {},
          "execution_count": 92
        }
      ]
    },
    {
      "cell_type": "code",
      "source": [
        "y_pred = model.predict(x_test, verbose=2)"
      ],
      "metadata": {
        "colab": {
          "base_uri": "https://localhost:8080/"
        },
        "id": "6A0lyTIzDuIv",
        "outputId": "fdea123f-f7ca-4193-b2a1-c8aba272b37c"
      },
      "execution_count": null,
      "outputs": [
        {
          "output_type": "stream",
          "name": "stdout",
          "text": [
            "94/94 - 1s - 571ms/epoch - 6ms/step\n"
          ]
        }
      ]
    },
    {
      "cell_type": "code",
      "source": [
        "Y_pred = np.argmax(y_pred,axis=1)\n",
        "Y_test = np.argmax(y_test,axis=1)"
      ],
      "metadata": {
        "id": "ID7Wi7NuLjv6"
      },
      "execution_count": null,
      "outputs": []
    },
    {
      "cell_type": "code",
      "source": [
        "from sklearn.metrics import f1_score\n",
        "score=f1_score(Y_test, Y_pred, average='macro')"
      ],
      "metadata": {
        "id": "JHUH9YyBJzWC"
      },
      "execution_count": null,
      "outputs": []
    },
    {
      "cell_type": "code",
      "source": [
        "score"
      ],
      "metadata": {
        "colab": {
          "base_uri": "https://localhost:8080/"
        },
        "id": "h7ttDmMxLE7A",
        "outputId": "1498e412-5a45-4302-b66d-ecfe9ed82c37"
      },
      "execution_count": null,
      "outputs": [
        {
          "output_type": "execute_result",
          "data": {
            "text/plain": [
              "0.2891595644308975"
            ]
          },
          "metadata": {},
          "execution_count": 101
        }
      ]
    },
    {
      "cell_type": "code",
      "source": [
        "\n"
      ],
      "metadata": {
        "id": "FJkddCkSNRDb"
      },
      "execution_count": null,
      "outputs": []
    },
    {
      "cell_type": "code",
      "source": [
        "model = tf.keras.Sequential()\n",
        "e = tf.keras.layers.Embedding(vocab_size, 100, weights=[embedding_matrix], input_length=max_len, trainable=False)\n",
        "model.add(e)\n",
        "# model.add(tf.keras.layers.Flatten())\n",
        "\n",
        "model.add(tf.keras.layers.Conv1D(32, 3, activation='relu'))\n",
        "\n",
        "# forward_layer = tf.keras.layers.LSTM(1, return_sequences=True)\n",
        "# backward_layer = tf.keras.layers.LSTM(2, activation='relu', return_sequences=True,\n",
        "#                       go_backwards=True)\n",
        "# model.add(tf.keras.layers.Bidirectional(forward_layer, backward_layer=backward_layer,\n",
        "#                         input_shape=(1, 1)))\n",
        "model.add(tf.keras.layers.Flatten())\n",
        "model.add(tf.keras.layers.Dense(num_classes, activation='softmax'))\n",
        "\n",
        "# compile the model\n",
        "model.compile(optimizer='adam', loss='categorical_crossentropy', metrics=['accuracy'])\n",
        "# summarize the model\n",
        "print(model.summary())"
      ],
      "metadata": {
        "id": "X5-ORkKFLrbT",
        "colab": {
          "base_uri": "https://localhost:8080/"
        },
        "outputId": "2f620f17-d5a6-4edd-f268-408d8efac775"
      },
      "execution_count": null,
      "outputs": [
        {
          "output_type": "stream",
          "name": "stdout",
          "text": [
            "Model: \"sequential_16\"\n",
            "_________________________________________________________________\n",
            " Layer (type)                Output Shape              Param #   \n",
            "=================================================================\n",
            " embedding_16 (Embedding)    (None, 380, 100)          2192000   \n",
            "                                                                 \n",
            " conv1d_10 (Conv1D)          (None, 378, 32)           9632      \n",
            "                                                                 \n",
            " flatten_14 (Flatten)        (None, 12096)             0         \n",
            "                                                                 \n",
            " dense_14 (Dense)            (None, 13)                157261    \n",
            "                                                                 \n",
            "=================================================================\n",
            "Total params: 2,358,893\n",
            "Trainable params: 166,893\n",
            "Non-trainable params: 2,192,000\n",
            "_________________________________________________________________\n",
            "None\n"
          ]
        }
      ]
    },
    {
      "cell_type": "code",
      "source": [
        "model.fit(x_train, y_train, epochs=10, verbose=2)\n"
      ],
      "metadata": {
        "colab": {
          "base_uri": "https://localhost:8080/"
        },
        "id": "uukP8tdMMtMY",
        "outputId": "e9cab7da-f2e8-4582-cd1b-5720f6e865c3"
      },
      "execution_count": null,
      "outputs": [
        {
          "output_type": "stream",
          "name": "stdout",
          "text": [
            "Epoch 1/10\n",
            "813/813 - 3s - loss: 1.6416 - accuracy: 0.4836 - 3s/epoch - 3ms/step\n",
            "Epoch 2/10\n",
            "813/813 - 2s - loss: 1.3365 - accuracy: 0.5675 - 2s/epoch - 3ms/step\n",
            "Epoch 3/10\n",
            "813/813 - 2s - loss: 1.1786 - accuracy: 0.6161 - 2s/epoch - 3ms/step\n",
            "Epoch 4/10\n",
            "813/813 - 2s - loss: 1.0764 - accuracy: 0.6485 - 2s/epoch - 3ms/step\n",
            "Epoch 5/10\n",
            "813/813 - 2s - loss: 0.9964 - accuracy: 0.6686 - 2s/epoch - 3ms/step\n",
            "Epoch 6/10\n",
            "813/813 - 2s - loss: 0.9400 - accuracy: 0.6871 - 2s/epoch - 3ms/step\n",
            "Epoch 7/10\n",
            "813/813 - 2s - loss: 0.8910 - accuracy: 0.7030 - 2s/epoch - 3ms/step\n",
            "Epoch 8/10\n",
            "813/813 - 2s - loss: 0.8466 - accuracy: 0.7156 - 2s/epoch - 3ms/step\n",
            "Epoch 9/10\n",
            "813/813 - 2s - loss: 0.8112 - accuracy: 0.7260 - 2s/epoch - 3ms/step\n",
            "Epoch 10/10\n",
            "813/813 - 2s - loss: 0.7804 - accuracy: 0.7374 - 2s/epoch - 3ms/step\n"
          ]
        },
        {
          "output_type": "execute_result",
          "data": {
            "text/plain": [
              "<keras.callbacks.History at 0x7fcc44301350>"
            ]
          },
          "metadata": {},
          "execution_count": 75
        }
      ]
    },
    {
      "cell_type": "code",
      "source": [
        "len(x_train)"
      ],
      "metadata": {
        "colab": {
          "base_uri": "https://localhost:8080/"
        },
        "id": "nOzN56arPsXK",
        "outputId": "c28696e7-73cb-4984-ff32-60d13b095d16"
      },
      "execution_count": null,
      "outputs": [
        {
          "output_type": "execute_result",
          "data": {
            "text/plain": [
              "25986"
            ]
          },
          "metadata": {},
          "execution_count": 76
        }
      ]
    },
    {
      "cell_type": "code",
      "source": [],
      "metadata": {
        "id": "WFS8WSdnPryH"
      },
      "execution_count": null,
      "outputs": []
    },
    {
      "cell_type": "code",
      "source": [
        "y_pred = model.predict(x_test, verbose=2)"
      ],
      "metadata": {
        "colab": {
          "base_uri": "https://localhost:8080/"
        },
        "id": "3HUBtrFFMvC7",
        "outputId": "f900f1a3-42fa-4bb5-e497-9dc92287ff99"
      },
      "execution_count": null,
      "outputs": [
        {
          "output_type": "stream",
          "name": "stdout",
          "text": [
            "94/94 - 0s - 206ms/epoch - 2ms/step\n"
          ]
        }
      ]
    },
    {
      "cell_type": "code",
      "source": [
        "Y_pred = np.argmax(y_pred,axis=1)\n",
        "Y_test = np.argmax(y_test,axis=1)"
      ],
      "metadata": {
        "id": "lNBUt9XkMwrp"
      },
      "execution_count": null,
      "outputs": []
    },
    {
      "cell_type": "code",
      "source": [
        "from sklearn.metrics import f1_score\n",
        "score=f1_score(Y_test, Y_pred, average='macro')"
      ],
      "metadata": {
        "id": "2-3dRgoGMyte"
      },
      "execution_count": null,
      "outputs": []
    },
    {
      "cell_type": "code",
      "source": [
        "score"
      ],
      "metadata": {
        "colab": {
          "base_uri": "https://localhost:8080/"
        },
        "id": "EGEFAaboM0Tv",
        "outputId": "dc063590-191b-4dd4-cb36-85d0697b887f"
      },
      "execution_count": null,
      "outputs": [
        {
          "output_type": "execute_result",
          "data": {
            "text/plain": [
              "0.31580827210263746"
            ]
          },
          "metadata": {},
          "execution_count": 80
        }
      ]
    },
    {
      "cell_type": "code",
      "source": [],
      "metadata": {
        "id": "Sqh6oFJlO37X"
      },
      "execution_count": null,
      "outputs": []
    }
  ]
}